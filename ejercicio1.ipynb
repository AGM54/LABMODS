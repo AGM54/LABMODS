{
 "cells": [
  {
   "cell_type": "code",
   "execution_count": 62,
   "metadata": {},
   "outputs": [],
   "source": [
    "using JuMP, HiGHS"
   ]
  },
  {
   "cell_type": "code",
   "execution_count": 63,
   "metadata": {},
   "outputs": [
    {
     "data": {
      "text/plain": [
       "18"
      ]
     },
     "metadata": {},
     "output_type": "display_data"
    }
   ],
   "source": [
    "# Datos\n",
    "oferta = [400, 200, 150]\n",
    "demanda = [100, 200, 150, 160, 140]\n",
    "distancia = [\n",
    "    100 150 200 140 35;\n",
    "     50  70  60  65 80;\n",
    "     40  90 100 150 130\n",
    "]\n",
    "\n",
    "costo_por_milla = 25  # Costo por milla de cada camión\n",
    "capacidad_camion = 18  # Máximo de autos por camión\n"
   ]
  },
  {
   "cell_type": "code",
   "execution_count": 64,
   "metadata": {},
   "outputs": [
    {
     "data": {
      "text/plain": [
       "A JuMP Model\n",
       "├ solver: HiGHS\n",
       "├ objective_sense: FEASIBILITY_SENSE\n",
       "├ num_variables: 0\n",
       "├ num_constraints: 0\n",
       "└ Names registered in the model: none"
      ]
     },
     "metadata": {},
     "output_type": "display_data"
    }
   ],
   "source": [
    "modelo = Model(HiGHS.Optimizer)"
   ]
  },
  {
   "cell_type": "code",
   "execution_count": 65,
   "metadata": {},
   "outputs": [
    {
     "data": {
      "text/plain": [
       "3×5 Matrix{VariableRef}:\n",
       " x[1,1]  x[1,2]  x[1,3]  x[1,4]  x[1,5]\n",
       " x[2,1]  x[2,2]  x[2,3]  x[2,4]  x[2,5]\n",
       " x[3,1]  x[3,2]  x[3,3]  x[3,4]  x[3,5]"
      ]
     },
     "metadata": {},
     "output_type": "display_data"
    }
   ],
   "source": [
    "@variable(modelo, x[1:3, 1:5] >= 0) # No negativos"
   ]
  },
  {
   "cell_type": "code",
   "execution_count": 66,
   "metadata": {},
   "outputs": [
    {
     "data": {
      "text/plain": [
       "3×5 Matrix{VariableRef}:\n",
       " y[1,1]  y[1,2]  y[1,3]  y[1,4]  y[1,5]\n",
       " y[2,1]  y[2,2]  y[2,3]  y[2,4]  y[2,5]\n",
       " y[3,1]  y[3,2]  y[3,3]  y[3,4]  y[3,5]"
      ]
     },
     "metadata": {},
     "output_type": "display_data"
    }
   ],
   "source": [
    "# Variables auxiliares: número de camiones usados (enteras)\n",
    "@variable(modelo, y[1:3, 1:5] >= 0, Int)"
   ]
  },
  {
   "cell_type": "code",
   "execution_count": 67,
   "metadata": {},
   "outputs": [
    {
     "data": {
      "text/latex": [
       "$ 2500 y_{1,1} + 3750 y_{1,2} + 5000 y_{1,3} + 3500 y_{1,4} + 875 y_{1,5} + 1250 y_{2,1} + 1750 y_{2,2} + 1500 y_{2,3} + 1625 y_{2,4} + 2000 y_{2,5} + 1000 y_{3,1} + 2250 y_{3,2} + 2500 y_{3,3} + 3750 y_{3,4} + 3250 y_{3,5} $"
      ],
      "text/plain": [
       "2500 y[1,1] + 3750 y[1,2] + 5000 y[1,3] + 3500 y[1,4] + 875 y[1,5] + 1250 y[2,1] + 1750 y[2,2] + 1500 y[2,3] + 1625 y[2,4] + 2000 y[2,5] + 1000 y[3,1] + 2250 y[3,2] + 2500 y[3,3] + 3750 y[3,4] + 3250 y[3,5]"
      ]
     },
     "metadata": {},
     "output_type": "display_data"
    }
   ],
   "source": [
    "# Función objetivo: minimizar el costo total de transporte\n",
    "@objective(modelo, Min, sum(\n",
    "    costo_por_milla * distancia[i, j] * y[i, j] \n",
    "    for i in 1:3, j in 1:5\n",
    "))"
   ]
  },
  {
   "cell_type": "code",
   "execution_count": 68,
   "metadata": {},
   "outputs": [],
   "source": [
    "# Restricciones de oferta\n",
    "for i in 1:3\n",
    "    @constraint(modelo, sum(x[i, j] for j in 1:5) <= oferta[i])\n",
    "end"
   ]
  },
  {
   "cell_type": "code",
   "execution_count": 69,
   "metadata": {},
   "outputs": [],
   "source": [
    "# Restricciones de demanda\n",
    "for j in 1:5\n",
    "    @constraint(modelo, sum(x[i, j] for i in 1:3) == demanda[j])\n",
    "end"
   ]
  },
  {
   "cell_type": "code",
   "execution_count": 70,
   "metadata": {},
   "outputs": [],
   "source": [
    "# Restricción: número de autos por camión\n",
    "for i in 1:3, j in 1:5\n",
    "    @constraint(modelo, x[i, j] <= capacidad_camion * y[i, j])\n",
    "end"
   ]
  },
  {
   "cell_type": "code",
   "execution_count": 71,
   "metadata": {},
   "outputs": [
    {
     "name": "stdout",
     "output_type": "stream",
     "text": [
      "Running HiGHS 1.7.2 (git hash: 5ce7a2753): Copyright (c) 2024 HiGHS under MIT licence terms\n",
      "Coefficient ranges:\n",
      "  Matrix [1e+00, 2e+01]\n",
      "  Cost   [9e+02, 5e+03]\n",
      "  Bound  [0e+00, 0e+00]\n",
      "  RHS    [1e+02, 4e+02]\n",
      "Presolving model\n",
      "23 rows, 30 cols, 60 nonzeros  0s\n",
      "23 rows, 30 cols, 60 nonzeros  0s\n",
      "Objective function is integral with scale 0.008\n",
      "\n",
      "Solving MIP model with:\n",
      "   23 rows\n",
      "   30 cols (0 binary, 15 integer, 0 implied int., 15 continuous)\n",
      "   60 nonzeros\n",
      "\n",
      "        Nodes      |    B&B Tree     |            Objective Bounds              |  Dynamic Constraints |       Work      \n",
      "     Proc. InQueue |  Leaves   Expl. | BestBound       BestSol              Gap |   Cuts   InLp Confl. | LpIters     Time\n",
      "\n",
      "         0       0         0   0.00%   0               inf                  inf        0      0      0         0     0.0s\n",
      " S       0       0         0   0.00%   0               92500            100.00%        0      0      0         0     0.0s\n",
      "         0       0         0   0.00%   87916.666667    92500              4.95%        0      0      5         8     0.0s\n",
      "\n",
      "13.3% inactive integer columns, restarting\n",
      "Model after restart has 19 rows, 24 cols (1 bin., 11 int., 0 impl., 12 cont.), and 48 nonzeros\n",
      "\n",
      "         0       0         0   0.00%   91333.333333    92500              1.26%        8      0      0        30     0.0s\n",
      "         0       0         0   0.00%   91333.333333    92500              1.26%        8      7      6        38     0.0s\n",
      "\n",
      "Solving report\n",
      "  Status            Optimal\n",
      "  Primal bound      92500\n",
      "  Dual bound        92500\n",
      "  Gap               0% (tolerance: 0.01%)\n",
      "  Solution status   feasible\n",
      "                    92500 (objective)\n",
      "                    0 (bound viol.)\n",
      "                    0 (int. viol.)\n",
      "                    0 (row viol.)\n",
      "  Timing            0.01 (total)\n",
      "                    0.00 (presolve)\n",
      "                    0.00 (postsolve)\n",
      "  Nodes             1\n",
      "  LP iterations     47 (total)\n",
      "                    0 (strong br.)\n",
      "                    31 (separation)\n",
      "                    0 (heuristics)\n"
     ]
    }
   ],
   "source": [
    "optimize!(modelo)"
   ]
  },
  {
   "cell_type": "code",
   "execution_count": 72,
   "metadata": {},
   "outputs": [
    {
     "name": "stdout",
     "output_type": "stream",
     "text": [
      "Distribución óptima:\n",
      "Enviar 100.0 autos del Centro 1 al Concesionario 1 (Usar 6.0 camiones)\n",
      "Enviar 0.0 autos del Centro 1 al Concesionario 2 (Usar -0.0 camiones)\n",
      "Enviar 0.0 autos del Centro 1 al Concesionario 3 (Usar -0.0 camiones)\n",
      "Enviar 160.0 autos del Centro 1 al Concesionario 4 (Usar 9.0 camiones)\n",
      "Enviar 140.0 autos del Centro 1 al Concesionario 5 (Usar 8.0 camiones)\n",
      "Enviar 0.0 autos del Centro 2 al Concesionario 1 (Usar -0.0 camiones)\n",
      "Enviar 50.0 autos del Centro 2 al Concesionario 2 (Usar 3.0 camiones)\n",
      "Enviar 150.0 autos del Centro 2 al Concesionario 3 (Usar 9.0 camiones)\n",
      "Enviar 0.0 autos del Centro 2 al Concesionario 4 (Usar -0.0 camiones)\n",
      "Enviar 0.0 autos del Centro 2 al Concesionario 5 (Usar -0.0 camiones)\n",
      "Enviar -0.0 autos del Centro 3 al Concesionario 1 (Usar -0.0 camiones)\n",
      "Enviar 150.0 autos del Centro 3 al Concesionario 2 (Usar 9.0 camiones)\n",
      "Enviar 0.0 autos del Centro 3 al Concesionario 3 (Usar -0.0 camiones)\n",
      "Enviar 0.0 autos del Centro 3 al Concesionario 4 (Usar -0.0 camiones)\n",
      "Enviar 0.0 autos del Centro 3 al Concesionario 5 (Usar -0.0 camiones)\n",
      "Costo total: $92500.0\n"
     ]
    }
   ],
   "source": [
    "if termination_status(modelo) == MOI.OPTIMAL\n",
    "    println(\"Distribución óptima:\")\n",
    "    for i in 1:3, j in 1:5\n",
    "        autos = value(x[i, j])\n",
    "        camiones = value(y[i, j])\n",
    "        println(\"Enviar $autos autos del Centro $i al Concesionario $j (Usar $camiones camiones)\")\n",
    "    end\n",
    "    println(\"Costo total: \\$\", objective_value(modelo))\n",
    "else\n",
    "    println(\"No se encontró solución óptima.\")\n",
    "end"
   ]
  }
 ],
 "metadata": {
  "kernelspec": {
   "display_name": "Julia 1.10.5",
   "language": "julia",
   "name": "julia-1.10"
  },
  "language_info": {
   "file_extension": ".jl",
   "mimetype": "application/julia",
   "name": "julia",
   "version": "1.10.5"
  }
 },
 "nbformat": 4,
 "nbformat_minor": 2
}
