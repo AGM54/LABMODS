{
 "cells": [
  {
   "cell_type": "code",
   "execution_count": 3,
   "metadata": {},
   "outputs": [],
   "source": [
    "using JuMP, HiGHS"
   ]
  },
  {
   "cell_type": "code",
   "execution_count": 9,
   "metadata": {},
   "outputs": [
    {
     "data": {
      "text/plain": [
       "1.3888888888888888"
      ]
     },
     "metadata": {},
     "output_type": "display_data"
    }
   ],
   "source": [
    "# Datos\n",
    "oferta = [400, 200, 150]\n",
    "demanda = [100, 200, 150, 160, 140]\n",
    "distancia = [\n",
    "    100 150 200 140 35;\n",
    "     50  70  60  65 80;\n",
    "     40  90 100 150 130\n",
    "]\n",
    "\n",
    "costo_por_auto = 25 / 18"
   ]
  },
  {
   "cell_type": "code",
   "execution_count": 10,
   "metadata": {},
   "outputs": [
    {
     "data": {
      "text/plain": [
       "A JuMP Model\n",
       "├ solver: HiGHS\n",
       "├ objective_sense: FEASIBILITY_SENSE\n",
       "├ num_variables: 0\n",
       "├ num_constraints: 0\n",
       "└ Names registered in the model: none"
      ]
     },
     "metadata": {},
     "output_type": "display_data"
    }
   ],
   "source": [
    "modelo = Model(HiGHS.Optimizer)"
   ]
  },
  {
   "cell_type": "code",
   "execution_count": 11,
   "metadata": {},
   "outputs": [
    {
     "data": {
      "text/plain": [
       "3×5 Matrix{VariableRef}:\n",
       " x[1,1]  x[1,2]  x[1,3]  x[1,4]  x[1,5]\n",
       " x[2,1]  x[2,2]  x[2,3]  x[2,4]  x[2,5]\n",
       " x[3,1]  x[3,2]  x[3,3]  x[3,4]  x[3,5]"
      ]
     },
     "metadata": {},
     "output_type": "display_data"
    }
   ],
   "source": [
    "@variable(modelo, x[1:3, 1:5] >= 0) # No negativos"
   ]
  },
  {
   "cell_type": "code",
   "execution_count": 12,
   "metadata": {},
   "outputs": [
    {
     "data": {
      "text/latex": [
       "$ 138.88888888888889 x_{1,1} + 208.33333333333331 x_{1,2} + 277.77777777777777 x_{1,3} + 194.44444444444443 x_{1,4} + 48.61111111111111 x_{1,5} + 69.44444444444444 x_{2,1} + 97.22222222222221 x_{2,2} + 83.33333333333333 x_{2,3} + 90.27777777777777 x_{2,4} + 111.11111111111111 x_{2,5} + 55.55555555555556 x_{3,1} + 125 x_{3,2} + 138.88888888888889 x_{3,3} + 208.33333333333331 x_{3,4} + 180.55555555555554 x_{3,5} $"
      ],
      "text/plain": [
       "138.88888888888889 x[1,1] + 208.33333333333331 x[1,2] + 277.77777777777777 x[1,3] + 194.44444444444443 x[1,4] + 48.61111111111111 x[1,5] + 69.44444444444444 x[2,1] + 97.22222222222221 x[2,2] + 83.33333333333333 x[2,3] + 90.27777777777777 x[2,4] + 111.11111111111111 x[2,5] + 55.55555555555556 x[3,1] + 125 x[3,2] + 138.88888888888889 x[3,3] + 208.33333333333331 x[3,4] + 180.55555555555554 x[3,5]"
      ]
     },
     "metadata": {},
     "output_type": "display_data"
    }
   ],
   "source": [
    "@objective(modelo, Min, sum(costo_por_auto * distancia[i, j] * x[i, j] for i in 1:3, j in 1:5))"
   ]
  },
  {
   "cell_type": "code",
   "execution_count": 13,
   "metadata": {},
   "outputs": [],
   "source": [
    "# Restricciones de oferta\n",
    "for i in 1:3\n",
    "    @constraint(modelo, sum(x[i, j] for j in 1:5) <= oferta[i])\n",
    "end"
   ]
  },
  {
   "cell_type": "code",
   "execution_count": 14,
   "metadata": {},
   "outputs": [],
   "source": [
    "# Restricciones de demanda\n",
    "for j in 1:5\n",
    "    @constraint(modelo, sum(x[i, j] for i in 1:3) == demanda[j])\n",
    "end"
   ]
  },
  {
   "cell_type": "code",
   "execution_count": 15,
   "metadata": {},
   "outputs": [
    {
     "name": "stdout",
     "output_type": "stream",
     "text": [
      "Running HiGHS 1.7.2 (git hash: 5ce7a2753): Copyright (c) 2024 HiGHS under MIT licence terms\n",
      "Coefficient ranges:\n",
      "  Matrix [1e+00, 1e+00]\n",
      "  Cost   [5e+01, 3e+02]\n",
      "  Bound  [0e+00, 0e+00]\n",
      "  RHS    [1e+02, 4e+02]\n",
      "Presolving model\n",
      "8 rows, 15 cols, 30 nonzeros  0s\n",
      "8 rows, 15 cols, 30 nonzeros  0s\n",
      "Presolve : Reductions: rows 8(-0); columns 15(-0); elements 30(-0) - Not reduced\n",
      "Problem not reduced by presolve: solving the LP\n",
      "Using EKK dual simplex solver - serial\n",
      "  Iteration        Objective     Infeasibilities num(sum)\n",
      "          0     0.0000000000e+00 Pr: 5(750) 0s\n",
      "          8     8.7916666667e+04 Pr: 0(0) 0s\n",
      "Model   status      : Optimal\n",
      "Simplex   iterations: 8\n",
      "Objective value     :  8.7916666667e+04\n",
      "HiGHS run time      :          0.02\n"
     ]
    }
   ],
   "source": [
    "optimize!(modelo)"
   ]
  },
  {
   "cell_type": "code",
   "execution_count": 16,
   "metadata": {},
   "outputs": [
    {
     "name": "stdout",
     "output_type": "stream",
     "text": [
      "Distribución óptima:\n",
      "Enviar 100.0 autos del Centro 1 al Concesionario 1\n",
      "Enviar 0.0 autos del Centro 1 al Concesionario 2\n",
      "Enviar 0.0 autos del Centro 1 al Concesionario 3\n",
      "Enviar 160.0 autos del Centro 1 al Concesionario 4\n",
      "Enviar 140.0 autos del Centro 1 al Concesionario 5\n",
      "Enviar 0.0 autos del Centro 2 al Concesionario 1\n",
      "Enviar 50.0 autos del Centro 2 al Concesionario 2\n",
      "Enviar 150.0 autos del Centro 2 al Concesionario 3\n",
      "Enviar 0.0 autos del Centro 2 al Concesionario 4\n",
      "Enviar 0.0 autos del Centro 2 al Concesionario 5\n",
      "Enviar -0.0 autos del Centro 3 al Concesionario 1\n",
      "Enviar 150.0 autos del Centro 3 al Concesionario 2\n",
      "Enviar 0.0 autos del Centro 3 al Concesionario 3\n",
      "Enviar 0.0 autos del Centro 3 al Concesionario 4\n",
      "Enviar 0.0 autos del Centro 3 al Concesionario 5\n",
      "Costo total: $87916.66666666666\n"
     ]
    }
   ],
   "source": [
    "if termination_status(modelo) == MOI.OPTIMAL\n",
    "    println(\"Distribución óptima:\")\n",
    "    for i in 1:3, j in 1:5\n",
    "        println(\"Enviar \", value(x[i, j]), \" autos del Centro $i al Concesionario $j\")\n",
    "    end\n",
    "    println(\"Costo total: \\$\", objective_value(modelo))\n",
    "else\n",
    "    println(\"No se encontró solución óptima.\")\n",
    "end"
   ]
  }
 ],
 "metadata": {
  "kernelspec": {
   "display_name": "Julia 1.10.5",
   "language": "julia",
   "name": "julia-1.10"
  },
  "language_info": {
   "file_extension": ".jl",
   "mimetype": "application/julia",
   "name": "julia",
   "version": "1.10.5"
  }
 },
 "nbformat": 4,
 "nbformat_minor": 2
}
